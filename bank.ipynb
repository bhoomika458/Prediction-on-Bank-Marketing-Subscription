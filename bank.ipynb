{
  "cells": [
    {
      "cell_type": "markdown",
      "metadata": {
        "id": "gneoqBrkZZ_V"
      },
      "source": [
        "# **Import necessary libraries**\n"
      ],
      "id": "gneoqBrkZZ_V"
    },
    {
      "cell_type": "code",
      "execution_count": 262,
      "metadata": {
        "id": "3e687176"
      },
      "outputs": [],
      "source": [
        "import numpy as np ## for data manipulation\n",
        "import pandas as pd ## to create dataframe\n",
        "import matplotlib.pyplot as plt ## for data visualization\n",
        "import seaborn as sns ## for data visualization\n",
        "import os\n"
      ],
      "id": "3e687176"
    },
    {
      "cell_type": "markdown",
      "metadata": {
        "id": "uzEsSn-8ZYmm"
      },
      "source": [
        "# **Data Preprocessing**"
      ],
      "id": "uzEsSn-8ZYmm"
    },
    {
      "cell_type": "code",
      "execution_count": null,
      "metadata": {
        "colab": {
          "base_uri": "https://localhost:8080/"
        },
        "id": "bnSpEGs9Wg6v",
        "outputId": "5afd007c-24ff-420f-f163-eece2fee5895"
      },
      "outputs": [
        {
          "output_type": "stream",
          "name": "stdout",
          "text": [
            "Looking in indexes: https://pypi.org/simple, https://us-python.pkg.dev/colab-wheels/public/simple/\n",
            "Collecting https://github.com/pandas-profiling/pandas-profiling/archive/master.zip\n",
            "  Using cached https://github.com/pandas-profiling/pandas-profiling/archive/master.zip\n"
          ]
        }
      ],
      "source": [
        "! pip install https://github.com/pandas-profiling/pandas-profiling/archive/master.zip "
      ],
      "id": "bnSpEGs9Wg6v"
    },
    {
      "cell_type": "code",
      "execution_count": null,
      "metadata": {
        "id": "9ZW_FK7OWm7-"
      },
      "outputs": [],
      "source": [
        "from pandas_profiling import ProfileReport #for profiling"
      ],
      "id": "9ZW_FK7OWm7-"
    },
    {
      "cell_type": "code",
      "execution_count": null,
      "metadata": {
        "id": "tHYkPAPYhGTg"
      },
      "outputs": [],
      "source": [
        "print(os.listdir())"
      ],
      "id": "tHYkPAPYhGTg"
    },
    {
      "cell_type": "code",
      "execution_count": null,
      "metadata": {
        "id": "edd9f4de"
      },
      "outputs": [],
      "source": [
        "bank = pd.read_csv('banking.csv') #(here use dataframe name as bank )\n",
        "bank"
      ],
      "id": "edd9f4de"
    },
    {
      "cell_type": "code",
      "execution_count": null,
      "metadata": {
        "id": "JiyBwEObWr3-"
      },
      "outputs": [],
      "source": [
        "profile = ProfileReport(bank, title='Bank Marketing', html={'style':{'full_width':True}})\n",
        "profile"
      ],
      "id": "JiyBwEObWr3-"
    },
    {
      "cell_type": "markdown",
      "metadata": {
        "id": "b4f3a1f0"
      },
      "source": [
        "x =  age to nr_employed\n",
        "y = y\n",
        "\n",
        "using , model = LogisticRegression() solve the above problem \n",
        "draw confusion_matrix and roc_curve by importing neccesory libraries \n",
        "also draw heat map for confution matrix \n",
        "search the code in google for each and every step\n",
        "and send me the solution tommorow within 6 pm (or atleast midnight)(jupyter notebook ). if you are not able to solve entire problem its ok, but send copy of jupyter note book because i want to see yours efforts "
      ],
      "id": "b4f3a1f0"
    },
    {
      "cell_type": "raw",
      "metadata": {
        "id": "8495fffa"
      },
      "source": [
        "from sklearn.linear_model import LogisticRegression\n",
        "from sklearn import metrics\n",
        "X_train, X_test, y_train, y_test = train_test_split(X, y, test_size=0.3, random_state=0)\n",
        "model = LogisticRegression()\n",
        "model.fit(X_train, y_train) (variable name should be model)"
      ],
      "id": "8495fffa"
    },
    {
      "cell_type": "raw",
      "metadata": {
        "id": "07a1ddb4"
      },
      "source": [
        "skip the standardization of data sets (reason let you know later) in the preprocessing step "
      ],
      "id": "07a1ddb4"
    },
    {
      "cell_type": "raw",
      "metadata": {
        "id": "0c810f94"
      },
      "source": [
        "best of luck "
      ],
      "id": "0c810f94"
    },
    {
      "cell_type": "code",
      "execution_count": null,
      "metadata": {
        "id": "ukcs9MlXf4wc"
      },
      "outputs": [],
      "source": [
        "bank.head()"
      ],
      "id": "ukcs9MlXf4wc"
    },
    {
      "cell_type": "code",
      "execution_count": null,
      "metadata": {
        "id": "2s0yvjLWf43Z"
      },
      "outputs": [],
      "source": [
        "bank.tail()"
      ],
      "id": "2s0yvjLWf43Z"
    },
    {
      "cell_type": "code",
      "execution_count": null,
      "metadata": {
        "id": "0xjso6WCf48E"
      },
      "outputs": [],
      "source": [
        "bank.shape"
      ],
      "id": "0xjso6WCf48E"
    },
    {
      "cell_type": "code",
      "execution_count": null,
      "metadata": {
        "id": "EM-5jqNOgVB6"
      },
      "outputs": [],
      "source": [
        "bank.shape[0]"
      ],
      "id": "EM-5jqNOgVB6"
    },
    {
      "cell_type": "code",
      "execution_count": null,
      "metadata": {
        "id": "S2KIUM4jf49v"
      },
      "outputs": [],
      "source": [
        "bank.shape[1]"
      ],
      "id": "S2KIUM4jf49v"
    },
    {
      "cell_type": "code",
      "execution_count": null,
      "metadata": {
        "id": "GmtipVjzf5BR"
      },
      "outputs": [],
      "source": [
        "bank.sample()"
      ],
      "id": "GmtipVjzf5BR"
    },
    {
      "cell_type": "code",
      "execution_count": null,
      "metadata": {
        "id": "OAI1VMMO5mdK"
      },
      "outputs": [],
      "source": [
        "bank.sample(5)"
      ],
      "id": "OAI1VMMO5mdK"
    },
    {
      "cell_type": "code",
      "execution_count": null,
      "metadata": {
        "id": "JQxPEHNqyBpK"
      },
      "outputs": [],
      "source": [
        "len(bank)"
      ],
      "id": "JQxPEHNqyBpK"
    },
    {
      "cell_type": "code",
      "execution_count": null,
      "metadata": {
        "id": "XbUwSedZZtXd"
      },
      "outputs": [],
      "source": [
        "len(bank.columns)"
      ],
      "id": "XbUwSedZZtXd"
    },
    {
      "cell_type": "code",
      "execution_count": null,
      "metadata": {
        "id": "3ja2r198f5Ct"
      },
      "outputs": [],
      "source": [
        "bank.columns[0]"
      ],
      "id": "3ja2r198f5Ct"
    },
    {
      "cell_type": "code",
      "execution_count": null,
      "metadata": {
        "id": "Eg_eyHxpf5GX"
      },
      "outputs": [],
      "source": [
        "bank.columns[[0]]"
      ],
      "id": "Eg_eyHxpf5GX"
    },
    {
      "cell_type": "code",
      "execution_count": null,
      "metadata": {
        "id": "Wj_tHwQGf5H2"
      },
      "outputs": [],
      "source": [
        "bank.columns"
      ],
      "id": "Wj_tHwQGf5H2"
    },
    {
      "cell_type": "code",
      "execution_count": null,
      "metadata": {
        "id": "GGzXelk5f5gb"
      },
      "outputs": [],
      "source": [
        "###num_cols"
      ],
      "id": "GGzXelk5f5gb"
    },
    {
      "cell_type": "code",
      "execution_count": null,
      "metadata": {
        "id": "HQLUH7GIKOBp"
      },
      "outputs": [],
      "source": [
        "bank.education\n"
      ],
      "id": "HQLUH7GIKOBp"
    },
    {
      "cell_type": "code",
      "execution_count": null,
      "metadata": {
        "id": "xfs0_revLkQn"
      },
      "outputs": [],
      "source": [
        "len(bank.education)"
      ],
      "id": "xfs0_revLkQn"
    },
    {
      "cell_type": "code",
      "execution_count": null,
      "metadata": {
        "id": "gH4pr4BFLvuR"
      },
      "outputs": [],
      "source": [
        "bank.education[100]"
      ],
      "id": "gH4pr4BFLvuR"
    },
    {
      "cell_type": "code",
      "execution_count": null,
      "metadata": {
        "id": "cyF32b8boaIF"
      },
      "outputs": [],
      "source": [
        "bank.rename({'marital':'martial status'}, axis=1)"
      ],
      "id": "cyF32b8boaIF"
    },
    {
      "cell_type": "code",
      "execution_count": null,
      "metadata": {
        "id": "frWClhfFanWW"
      },
      "outputs": [],
      "source": [
        "ed=bank.education.value_counts() \n",
        "ed"
      ],
      "id": "frWClhfFanWW"
    },
    {
      "cell_type": "code",
      "execution_count": null,
      "metadata": {
        "id": "aYgvxU8SQJFy"
      },
      "outputs": [],
      "source": [
        "ed[:3]"
      ],
      "id": "aYgvxU8SQJFy"
    },
    {
      "cell_type": "code",
      "execution_count": null,
      "metadata": {
        "id": "O75C7F7pSWSO"
      },
      "outputs": [],
      "source": [
        "'abc' in bank.education"
      ],
      "id": "O75C7F7pSWSO"
    },
    {
      "cell_type": "code",
      "execution_count": null,
      "metadata": {
        "id": "plGqKqZWScf0"
      },
      "outputs": [],
      "source": [
        "55 in bank.education"
      ],
      "id": "plGqKqZWScf0"
    },
    {
      "cell_type": "code",
      "execution_count": null,
      "metadata": {
        "id": "aVA6IBC6fQ46"
      },
      "outputs": [],
      "source": [
        "#ed1=bank.education[bank.education > 5]\n",
        "#ed2=bank.education[bank.education<=5]"
      ],
      "id": "aVA6IBC6fQ46"
    },
    {
      "cell_type": "code",
      "execution_count": null,
      "metadata": {
        "id": "b87ipXpQuUeW"
      },
      "outputs": [],
      "source": [
        "bank.education==1"
      ],
      "id": "b87ipXpQuUeW"
    },
    {
      "cell_type": "code",
      "execution_count": null,
      "metadata": {
        "id": "GIAFgjwEujMc"
      },
      "outputs": [],
      "source": [
        "bank.education==0"
      ],
      "id": "GIAFgjwEujMc"
    },
    {
      "cell_type": "code",
      "execution_count": null,
      "metadata": {
        "id": "GMBQxVSpf2R1"
      },
      "outputs": [],
      "source": [
        "bank.nunique()"
      ],
      "id": "GMBQxVSpf2R1"
    },
    {
      "cell_type": "code",
      "execution_count": null,
      "metadata": {
        "id": "-GTvpcU2f5Lk"
      },
      "outputs": [],
      "source": [
        "bank.info()"
      ],
      "id": "-GTvpcU2f5Lk"
    },
    {
      "cell_type": "code",
      "execution_count": null,
      "metadata": {
        "id": "ysRs0uWU0sJd"
      },
      "outputs": [],
      "source": [
        "bank.dtypes"
      ],
      "id": "ysRs0uWU0sJd"
    },
    {
      "cell_type": "code",
      "execution_count": null,
      "metadata": {
        "id": "Xpp2L-CV0Rcw"
      },
      "outputs": [],
      "source": [
        "from numpy.core import numerictypes\n",
        "bank.select_dtypes(include=numerictypes)"
      ],
      "id": "Xpp2L-CV0Rcw"
    },
    {
      "cell_type": "code",
      "execution_count": null,
      "metadata": {
        "id": "qD6BZ2jqcoOy"
      },
      "outputs": [],
      "source": [
        "bank.isna()"
      ],
      "id": "qD6BZ2jqcoOy"
    },
    {
      "cell_type": "code",
      "execution_count": null,
      "metadata": {
        "id": "g6tT0QI5f5Qh"
      },
      "outputs": [],
      "source": [
        "bank.isna().sum()"
      ],
      "id": "g6tT0QI5f5Qh"
    },
    {
      "cell_type": "code",
      "execution_count": null,
      "metadata": {
        "id": "oaIDzr4if5SH"
      },
      "outputs": [],
      "source": [
        "bank.isnull()"
      ],
      "id": "oaIDzr4if5SH"
    },
    {
      "cell_type": "code",
      "execution_count": null,
      "metadata": {
        "id": "-tKyfgj6f5V-"
      },
      "outputs": [],
      "source": [
        "bank.isnull().sum()"
      ],
      "id": "-tKyfgj6f5V-"
    },
    {
      "cell_type": "code",
      "execution_count": null,
      "metadata": {
        "id": "EK0dGG_ujXwv"
      },
      "outputs": [],
      "source": [
        "bank.isnull().any()"
      ],
      "id": "EK0dGG_ujXwv"
    },
    {
      "cell_type": "code",
      "execution_count": null,
      "metadata": {
        "id": "I-fFmJGBluiY"
      },
      "outputs": [],
      "source": [
        "bank.dropna() #when there is a null value the entire row will be deleted"
      ],
      "id": "I-fFmJGBluiY"
    },
    {
      "cell_type": "code",
      "execution_count": null,
      "metadata": {
        "id": "p6DYbRUrkz1K"
      },
      "outputs": [],
      "source": [
        "bank.dropna(how='all') #when all the values in a row is null"
      ],
      "id": "p6DYbRUrkz1K"
    },
    {
      "cell_type": "code",
      "execution_count": null,
      "metadata": {
        "id": "ym3wHx_33vsY"
      },
      "outputs": [],
      "source": [
        "bank.isnull().sum().sort_values() ##By default ascending=True"
      ],
      "id": "ym3wHx_33vsY"
    },
    {
      "cell_type": "code",
      "execution_count": null,
      "metadata": {
        "id": "3Bcp0OGeekl5"
      },
      "outputs": [],
      "source": [
        "percent=bank.isnull().sum().sort_values(ascending=True)/len(bank)\n",
        "percent"
      ],
      "id": "3Bcp0OGeekl5"
    },
    {
      "cell_type": "code",
      "execution_count": null,
      "metadata": {
        "id": "JlIs7RQ4ev5f"
      },
      "outputs": [],
      "source": [
        "bank.isnull().sum().sort_values(ascending=False)"
      ],
      "id": "JlIs7RQ4ev5f"
    },
    {
      "cell_type": "code",
      "execution_count": null,
      "metadata": {
        "id": "4uWrlf2Djmlq"
      },
      "outputs": [],
      "source": [
        "#sns.heatmap(bank.isnull(), yticklables=False, annot=True)"
      ],
      "id": "4uWrlf2Djmlq"
    },
    {
      "cell_type": "code",
      "execution_count": null,
      "metadata": {
        "id": "-lAC0T6Qe47M"
      },
      "outputs": [],
      "source": [
        "percent != 0"
      ],
      "id": "-lAC0T6Qe47M"
    },
    {
      "cell_type": "code",
      "execution_count": null,
      "metadata": {
        "id": "fXQDhLM_fAy0"
      },
      "outputs": [],
      "source": [
        "type(percent)"
      ],
      "id": "fXQDhLM_fAy0"
    },
    {
      "cell_type": "code",
      "execution_count": null,
      "metadata": {
        "id": "G84mhXLR57VG"
      },
      "outputs": [],
      "source": [
        "# when we have  some 0 missing values percent[percent != 0].plot(kind='bar')\n",
        "percent.plot(kind='bar') "
      ],
      "id": "G84mhXLR57VG"
    },
    {
      "cell_type": "code",
      "execution_count": null,
      "metadata": {
        "id": "yrUYv4FWh0w0"
      },
      "outputs": [],
      "source": [
        "bank.duplicated()"
      ],
      "id": "yrUYv4FWh0w0"
    },
    {
      "cell_type": "code",
      "execution_count": null,
      "metadata": {
        "id": "eVrX5Qd_h1uM"
      },
      "outputs": [],
      "source": [
        "bank.duplicated().sum()"
      ],
      "id": "eVrX5Qd_h1uM"
    },
    {
      "cell_type": "code",
      "execution_count": null,
      "metadata": {
        "id": "2e6QhZMAf5cy"
      },
      "outputs": [],
      "source": [
        "num_cols = bank._get_numeric_data().columns"
      ],
      "id": "2e6QhZMAf5cy"
    },
    {
      "cell_type": "code",
      "execution_count": null,
      "metadata": {
        "id": "c39AodTs0sTE"
      },
      "outputs": [],
      "source": [
        "bank1=pd.DataFrame(bank.dtypes)\n",
        "bank1"
      ],
      "id": "c39AodTs0sTE"
    },
    {
      "cell_type": "code",
      "execution_count": null,
      "metadata": {
        "id": "x2cbFL8p74s9"
      },
      "outputs": [],
      "source": [
        "bank1['Missing_value']=bank.isnull().sum()\n",
        "bank1"
      ],
      "id": "x2cbFL8p74s9"
    },
    {
      "cell_type": "code",
      "execution_count": null,
      "metadata": {
        "id": "8Dk1dlp4gZjC"
      },
      "outputs": [],
      "source": [
        "bank1['Unique_value']=bank.nunique()\n",
        "bank1"
      ],
      "id": "8Dk1dlp4gZjC"
    },
    {
      "cell_type": "code",
      "execution_count": null,
      "metadata": {
        "id": "35AXFczAEdCK"
      },
      "outputs": [],
      "source": [
        "bank1['Duplicate_value']=bank.duplicated()\n",
        "bank1"
      ],
      "id": "35AXFczAEdCK"
    },
    {
      "cell_type": "code",
      "execution_count": null,
      "metadata": {
        "id": "kiA_SaX9-O4g"
      },
      "outputs": [],
      "source": [
        "bank1['Count']=bank.count()\n",
        "bank1"
      ],
      "id": "kiA_SaX9-O4g"
    },
    {
      "cell_type": "markdown",
      "metadata": {
        "id": "F3uddHgTiEjW"
      },
      "source": [
        "# **Descriptive Statistics**"
      ],
      "id": "F3uddHgTiEjW"
    },
    {
      "cell_type": "code",
      "execution_count": null,
      "metadata": {
        "id": "jU5QW5yCgsrq"
      },
      "outputs": [],
      "source": [
        "bank.describe()"
      ],
      "id": "jU5QW5yCgsrq"
    },
    {
      "cell_type": "code",
      "execution_count": null,
      "metadata": {
        "id": "7UH144fDAjDg"
      },
      "outputs": [],
      "source": [
        "bank.describe(include=['number'])"
      ],
      "id": "7UH144fDAjDg"
    },
    {
      "cell_type": "code",
      "execution_count": null,
      "metadata": {
        "id": "rhu-7NsQf447"
      },
      "outputs": [],
      "source": [
        "bank.describe()"
      ],
      "id": "rhu-7NsQf447"
    },
    {
      "cell_type": "code",
      "execution_count": null,
      "metadata": {
        "id": "crJNuFKPBBkQ"
      },
      "outputs": [],
      "source": [
        "bank.describe(include=['object'])"
      ],
      "id": "crJNuFKPBBkQ"
    },
    {
      "cell_type": "code",
      "execution_count": null,
      "metadata": {
        "id": "qd-tpJx6Bf39"
      },
      "outputs": [],
      "source": [
        "print('The mean value of the data is',bank.mean())"
      ],
      "id": "qd-tpJx6Bf39"
    },
    {
      "cell_type": "code",
      "execution_count": null,
      "metadata": {
        "id": "Am0P7dKECCZj"
      },
      "outputs": [],
      "source": [
        "print('The median value of the data is',bank.median())"
      ],
      "id": "Am0P7dKECCZj"
    },
    {
      "cell_type": "code",
      "execution_count": null,
      "metadata": {
        "id": "jycd27LZCJdN"
      },
      "outputs": [],
      "source": [
        "print('The mode value of the data is',bank.mode())"
      ],
      "id": "jycd27LZCJdN"
    },
    {
      "cell_type": "code",
      "execution_count": null,
      "metadata": {
        "id": "XbVMfPgGf5Xz"
      },
      "outputs": [],
      "source": [
        "bank.mean()"
      ],
      "id": "XbVMfPgGf5Xz"
    },
    {
      "cell_type": "code",
      "execution_count": null,
      "metadata": {
        "id": "olDTU6MNg-07"
      },
      "outputs": [],
      "source": [
        "bank.median()"
      ],
      "id": "olDTU6MNg-07"
    },
    {
      "cell_type": "code",
      "execution_count": null,
      "metadata": {
        "id": "Ut-Qgf0khDWu"
      },
      "outputs": [],
      "source": [
        "bank.mode()"
      ],
      "id": "Ut-Qgf0khDWu"
    },
    {
      "cell_type": "markdown",
      "metadata": {
        "id": "bYD6WheIJf5M"
      },
      "source": [
        "# **Converting categorical data to numeric data using LabelEncoder**"
      ],
      "id": "bYD6WheIJf5M"
    },
    {
      "cell_type": "code",
      "execution_count": null,
      "metadata": {
        "id": "Mrb4MgXVI1EM"
      },
      "outputs": [],
      "source": [
        "bank.drop('duration',axis=1)"
      ],
      "id": "Mrb4MgXVI1EM"
    },
    {
      "cell_type": "code",
      "execution_count": null,
      "metadata": {
        "id": "bqMUJBgolGNC"
      },
      "outputs": [],
      "source": [
        "from sklearn.preprocessing import LabelEncoder\n",
        "le=LabelEncoder()"
      ],
      "id": "bqMUJBgolGNC"
    },
    {
      "cell_type": "code",
      "execution_count": null,
      "metadata": {
        "id": "z_xWkUWqf5nh"
      },
      "outputs": [],
      "source": [
        "bank['job'].unique()"
      ],
      "id": "z_xWkUWqf5nh"
    },
    {
      "cell_type": "code",
      "execution_count": null,
      "metadata": {
        "id": "-8UPD10-f5rT"
      },
      "outputs": [],
      "source": [
        "j1=('blue-collar', 'technician', 'management', 'services', 'retired',\n",
        "       'admin.', 'housemaid', 'unemployed', 'entrepreneur',\n",
        "       'self-employed', 'unknown', 'student')\n",
        "j2=le.fit_transform(j1)\n",
        "print(j2)\n"
      ],
      "id": "-8UPD10-f5rT"
    },
    {
      "cell_type": "code",
      "execution_count": null,
      "metadata": {
        "id": "cCIimDelmdv_"
      },
      "outputs": [],
      "source": [
        "bank.replace(j1,j2,inplace=True)"
      ],
      "id": "cCIimDelmdv_"
    },
    {
      "cell_type": "code",
      "execution_count": null,
      "metadata": {
        "id": "v1LoViHdf5wg"
      },
      "outputs": [],
      "source": [
        "bank['marital'].unique()"
      ],
      "id": "v1LoViHdf5wg"
    },
    {
      "cell_type": "code",
      "execution_count": null,
      "metadata": {
        "id": "QVfZg6sDf5yO"
      },
      "outputs": [],
      "source": [
        "m1=('married', 'single', 'divorced', 11)\n",
        "m2=le.fit_transform(m1)\n",
        "print(m2)"
      ],
      "id": "QVfZg6sDf5yO"
    },
    {
      "cell_type": "code",
      "execution_count": null,
      "metadata": {
        "id": "-HMs-38lqIbl"
      },
      "outputs": [],
      "source": [
        "bank.replace(m1,m2,inplace=True)"
      ],
      "id": "-HMs-38lqIbl"
    },
    {
      "cell_type": "code",
      "execution_count": null,
      "metadata": {
        "id": "_NepDUxff518"
      },
      "outputs": [],
      "source": [
        "bank['education'].unique()"
      ],
      "id": "_NepDUxff518"
    },
    {
      "cell_type": "code",
      "execution_count": null,
      "metadata": {
        "id": "jxk4mg59f53V"
      },
      "outputs": [],
      "source": [
        "e1=('basic.4y', 11, 'university.degree', 'high.school', 'basic.9y',\n",
        "       'professional.course', 'basic.6y', 'illiterate')\n",
        "e2=le.fit_transform(e1)\n",
        "print(e2)"
      ],
      "id": "jxk4mg59f53V"
    },
    {
      "cell_type": "code",
      "execution_count": null,
      "metadata": {
        "id": "-eULKYZsqLjo"
      },
      "outputs": [],
      "source": [
        "bank.replace(e1,e2,inplace=True)"
      ],
      "id": "-eULKYZsqLjo"
    },
    {
      "cell_type": "code",
      "execution_count": null,
      "metadata": {
        "id": "qR9ckTcKf566"
      },
      "outputs": [],
      "source": [
        "bank['default'].unique()"
      ],
      "id": "qR9ckTcKf566"
    },
    {
      "cell_type": "code",
      "execution_count": null,
      "metadata": {
        "id": "Qj60VtJGf58e"
      },
      "outputs": [],
      "source": [
        "d1=(0, 'no', 'yes')\n",
        "d2=le.fit_transform(d1)\n",
        "print(d2)"
      ],
      "id": "Qj60VtJGf58e"
    },
    {
      "cell_type": "code",
      "execution_count": null,
      "metadata": {
        "id": "lOV2Oz0rqRdF"
      },
      "outputs": [],
      "source": [
        "bank.replace(d1,d2,inplace=True)"
      ],
      "id": "lOV2Oz0rqRdF"
    },
    {
      "cell_type": "code",
      "execution_count": null,
      "metadata": {
        "id": "9HUiE7plf6AH"
      },
      "outputs": [],
      "source": [
        "bank['housing'].unique()"
      ],
      "id": "9HUiE7plf6AH"
    },
    {
      "cell_type": "code",
      "execution_count": null,
      "metadata": {
        "id": "fY3rUYqJpW_i"
      },
      "outputs": [],
      "source": [
        "h1=(2, 1, 0)\n",
        "h2=le.fit_transform(h1)\n",
        "print(h2)"
      ],
      "id": "fY3rUYqJpW_i"
    },
    {
      "cell_type": "code",
      "execution_count": null,
      "metadata": {
        "id": "Rs-TOCKOpXBF"
      },
      "outputs": [],
      "source": [
        "bank.replace(h1,h2,inplace=True)"
      ],
      "id": "Rs-TOCKOpXBF"
    },
    {
      "cell_type": "code",
      "execution_count": null,
      "metadata": {
        "id": "yD3skz-WpXEm"
      },
      "outputs": [],
      "source": [
        "bank['loan'].unique()"
      ],
      "id": "yD3skz-WpXEm"
    },
    {
      "cell_type": "code",
      "execution_count": null,
      "metadata": {
        "id": "3q0ib1WupXGC"
      },
      "outputs": [],
      "source": [
        "l1=(1, 2, 0)\n",
        "l2=le.fit_transform(l1)\n",
        "print(l2)"
      ],
      "id": "3q0ib1WupXGC"
    },
    {
      "cell_type": "code",
      "execution_count": null,
      "metadata": {
        "id": "kvPx3IB_pXJr"
      },
      "outputs": [],
      "source": [
        "bank.replace(l1,l2,inplace=True)"
      ],
      "id": "kvPx3IB_pXJr"
    },
    {
      "cell_type": "code",
      "execution_count": null,
      "metadata": {
        "id": "c1qhiwMypXLY"
      },
      "outputs": [],
      "source": [
        "bank['contact'].unique()"
      ],
      "id": "c1qhiwMypXLY"
    },
    {
      "cell_type": "code",
      "execution_count": null,
      "metadata": {
        "id": "WvDKkD2pq7Ex"
      },
      "outputs": [],
      "source": [
        "c1=('cellular', 'telephone')\n",
        "c2=le.fit_transform(c1)\n",
        "print(c2)"
      ],
      "id": "WvDKkD2pq7Ex"
    },
    {
      "cell_type": "code",
      "execution_count": null,
      "metadata": {
        "id": "EC4wOIALq7GN"
      },
      "outputs": [],
      "source": [
        "bank.replace(c1,c2,inplace=True)"
      ],
      "id": "EC4wOIALq7GN"
    },
    {
      "cell_type": "code",
      "execution_count": null,
      "metadata": {
        "id": "9Y4o_e11q7JR"
      },
      "outputs": [],
      "source": [
        "bank['month'].unique()"
      ],
      "id": "9Y4o_e11q7JR"
    },
    {
      "cell_type": "code",
      "execution_count": null,
      "metadata": {
        "id": "OB16rCBuq7Kn"
      },
      "outputs": [],
      "source": [
        "mo1=('aug', 'nov', 'jun', 'apr', 'jul', 'may', 'oct', 'mar', 'sep',\n",
        "       'dec')\n",
        "mo2=le.fit_transform(mo1)\n",
        "print(mo2)"
      ],
      "id": "OB16rCBuq7Kn"
    },
    {
      "cell_type": "code",
      "execution_count": null,
      "metadata": {
        "id": "qeGfv2Toq7OA"
      },
      "outputs": [],
      "source": [
        "bank.replace(mo1,mo2,inplace=True)"
      ],
      "id": "qeGfv2Toq7OA"
    },
    {
      "cell_type": "code",
      "execution_count": null,
      "metadata": {
        "id": "6Zjp5G--q7Pr"
      },
      "outputs": [],
      "source": [
        "bank['day_of_week'].unique()"
      ],
      "id": "6Zjp5G--q7Pr"
    },
    {
      "cell_type": "code",
      "execution_count": null,
      "metadata": {
        "id": "-ghiD79dq7Tc"
      },
      "outputs": [],
      "source": [
        "da1=('thu', 'fri', 'tue', 'mon', 'wed')\n",
        "da2=le.fit_transform(da1)\n",
        "print(da2)"
      ],
      "id": "-ghiD79dq7Tc"
    },
    {
      "cell_type": "code",
      "execution_count": null,
      "metadata": {
        "id": "4FX8N6OdpXPM"
      },
      "outputs": [],
      "source": [
        "bank.replace(da1,da2,inplace=True)"
      ],
      "id": "4FX8N6OdpXPM"
    },
    {
      "cell_type": "code",
      "execution_count": null,
      "metadata": {
        "id": "wf6EHscYsp1O"
      },
      "outputs": [],
      "source": [
        "bank['poutcome'].unique()"
      ],
      "id": "wf6EHscYsp1O"
    },
    {
      "cell_type": "code",
      "execution_count": null,
      "metadata": {
        "id": "HZA-RygZsp3D"
      },
      "outputs": [],
      "source": [
        "p1=('nonexistent', 'success', 'failure')\n",
        "p2=le.fit_transform(p1)\n",
        "print(p2)"
      ],
      "id": "HZA-RygZsp3D"
    },
    {
      "cell_type": "code",
      "execution_count": null,
      "metadata": {
        "id": "qSubjWD1sp60"
      },
      "outputs": [],
      "source": [
        "bank.replace(p1,p2,inplace=True)"
      ],
      "id": "qSubjWD1sp60"
    },
    {
      "cell_type": "code",
      "execution_count": null,
      "metadata": {
        "id": "ZeMSsshc1NPq"
      },
      "outputs": [],
      "source": [
        "bank.dtypes\n"
      ],
      "id": "ZeMSsshc1NPq"
    },
    {
      "cell_type": "code",
      "execution_count": null,
      "metadata": {
        "id": "-5rIVPSjsqaF"
      },
      "outputs": [],
      "source": [
        "bank.info()"
      ],
      "id": "-5rIVPSjsqaF"
    },
    {
      "cell_type": "code",
      "execution_count": null,
      "metadata": {
        "id": "VWIF7sd50Dai"
      },
      "outputs": [],
      "source": [
        "bank.describe()"
      ],
      "id": "VWIF7sd50Dai"
    },
    {
      "cell_type": "code",
      "execution_count": null,
      "metadata": {
        "id": "KmzWZxYLtUrZ"
      },
      "outputs": [],
      "source": [
        "bank"
      ],
      "id": "KmzWZxYLtUrZ"
    },
    {
      "cell_type": "code",
      "execution_count": null,
      "metadata": {
        "id": "Cb_ZE5KBd2MF"
      },
      "outputs": [],
      "source": [
        "plt.hist(bank['education']) ##histogram using matplotlib"
      ],
      "id": "Cb_ZE5KBd2MF"
    },
    {
      "cell_type": "code",
      "execution_count": null,
      "metadata": {
        "id": "Yzjd_9FcsqfN"
      },
      "outputs": [],
      "source": [
        "bank.education[:20].plot(kind='barh') ##accessing only 20 data points of education column"
      ],
      "id": "Yzjd_9FcsqfN"
    },
    {
      "cell_type": "code",
      "execution_count": null,
      "metadata": {
        "id": "8-62vZCZsqiH"
      },
      "outputs": [],
      "source": [
        "##bank.education.plot(kind='barh') ##accessing only all data points of education column"
      ],
      "id": "8-62vZCZsqiH"
    },
    {
      "cell_type": "code",
      "execution_count": null,
      "metadata": {
        "id": "EKtCq43tbaYP"
      },
      "outputs": [],
      "source": [
        "sns.histplot(bank['education'])  ##histogram using seaborn"
      ],
      "id": "EKtCq43tbaYP"
    },
    {
      "cell_type": "code",
      "execution_count": null,
      "metadata": {
        "id": "0QEIxPBgbade"
      },
      "outputs": [],
      "source": [
        "bank.columns"
      ],
      "id": "0QEIxPBgbade"
    },
    {
      "cell_type": "code",
      "execution_count": null,
      "metadata": {
        "id": "ZBKTYpEGfQz7"
      },
      "outputs": [],
      "source": [
        "col=('age', 'job', 'marital', 'education', 'default', 'housing', 'loan',\n",
        "       'contact', 'month', 'day_of_week', 'duration', 'campaign', 'pdays',\n",
        "       'previous', 'poutcome', 'emp_var_rate', 'cons_price_idx',\n",
        "       'cons_conf_idx', 'euribor3m', 'nr_employed', 'y')"
      ],
      "id": "ZBKTYpEGfQz7"
    },
    {
      "cell_type": "code",
      "execution_count": null,
      "metadata": {
        "id": "91oVkeDTfQ1-"
      },
      "outputs": [],
      "source": [
        "plt.hist(col) ##histogram using matplotlib"
      ],
      "id": "91oVkeDTfQ1-"
    },
    {
      "cell_type": "markdown",
      "metadata": {
        "id": "UbiEN9sPaK95"
      },
      "source": [
        "# **Visualization**"
      ],
      "id": "UbiEN9sPaK95"
    },
    {
      "cell_type": "code",
      "execution_count": null,
      "metadata": {
        "id": "-t8N1ubHbaVp"
      },
      "outputs": [],
      "source": [
        "sns.set(style='ticks',color_codes=True)"
      ],
      "id": "-t8N1ubHbaVp"
    },
    {
      "cell_type": "code",
      "execution_count": null,
      "metadata": {
        "id": "oZUXubsgbaaX"
      },
      "outputs": [],
      "source": [
        "sns.distplot(bank.education)"
      ],
      "id": "oZUXubsgbaaX"
    },
    {
      "cell_type": "code",
      "execution_count": null,
      "metadata": {
        "id": "JMEnDUjZd1_b"
      },
      "outputs": [],
      "source": [
        "##plotting one numerical and one categorical columns using bar graph\n",
        "def draw(x,y):\n",
        "    fig=plt.figure(figsize=(20,5))\n",
        "    sns.barplot(x='age',y='job',data=bank, estimator=sum, palette='husl')\n",
        "draw('age','job')"
      ],
      "id": "JMEnDUjZd1_b"
    },
    {
      "cell_type": "code",
      "execution_count": null,
      "metadata": {
        "id": "MlHXNxMPt15D"
      },
      "outputs": [],
      "source": [
        "#visualization of histogram\n",
        "bank[['age','campaign','previous','poutcome']].hist(bins=30, figsize=(11,7), color='navy')\n",
        "plt.show()"
      ],
      "id": "MlHXNxMPt15D"
    },
    {
      "cell_type": "code",
      "execution_count": null,
      "metadata": {
        "id": "JhRk_1VgF5mP"
      },
      "outputs": [],
      "source": [
        "sns.pairplot(bank)"
      ],
      "id": "JhRk_1VgF5mP"
    },
    {
      "cell_type": "markdown",
      "metadata": {
        "id": "THyyBxtvHwZq"
      },
      "source": [
        "### **Correlation of complete data**"
      ],
      "id": "THyyBxtvHwZq"
    },
    {
      "cell_type": "code",
      "execution_count": null,
      "metadata": {
        "id": "xjMJRPpXH8YK"
      },
      "outputs": [],
      "source": [
        "corr=bank.corr()\n",
        "corr"
      ],
      "id": "xjMJRPpXH8YK"
    },
    {
      "cell_type": "code",
      "execution_count": null,
      "metadata": {
        "id": "EI-ckHixIHNT"
      },
      "outputs": [],
      "source": [
        "sns.heatmap(corr) #it shows the strength"
      ],
      "id": "EI-ckHixIHNT"
    },
    {
      "cell_type": "code",
      "execution_count": null,
      "metadata": {
        "id": "4j_wYKa-Ieua"
      },
      "outputs": [],
      "source": [
        "f,ax=plt.subplots(figsize=(15,10))\n",
        "corr=bank.corr() \n",
        "sns.heatmap(corr, ax=ax, annot=True,) "
      ],
      "id": "4j_wYKa-Ieua"
    },
    {
      "cell_type": "markdown",
      "metadata": {
        "id": "SP152V_JRs69"
      },
      "source": [
        "# **Outliers Imputation**\n",
        "\n",
        "> A data point which is significantly far from other data points\n",
        "Inter-quartile Range(IQR)\n",
        "\n",
        ">IQR=Q3-Q1\n",
        "\n",
        "> Lower Boundary =Q1-1.5*IQR\n",
        "\n",
        "> Upper Boundary =Q3+1.5*IQR\n",
        "\n",
        "\n",
        ">Boxplot\n",
        "\n",
        "\n",
        "\n",
        "\n",
        "\n",
        "\n",
        "\n",
        "\n",
        "\n",
        "\n",
        "\n"
      ],
      "id": "SP152V_JRs69"
    },
    {
      "cell_type": "markdown",
      "metadata": {
        "id": "1Tpo9Y48yDsb"
      },
      "source": [
        "## **outliers using IQR**"
      ],
      "id": "1Tpo9Y48yDsb"
    },
    {
      "cell_type": "code",
      "execution_count": null,
      "metadata": {
        "cellView": "code",
        "id": "uNjWX8ixsSpU"
      },
      "outputs": [],
      "source": [
        "Q1=np.percentile(bank['age'],25,interpolation='midpoint')\n",
        "Q3=np.percentile(bank['age'],75,interpolation='midpoint')\n",
        "\n",
        "Q1,Q3"
      ],
      "id": "uNjWX8ixsSpU"
    },
    {
      "cell_type": "code",
      "execution_count": null,
      "metadata": {
        "id": "p0FbA6TKwTHS"
      },
      "outputs": [],
      "source": [
        "IQR=Q3-Q1\n",
        "IQR"
      ],
      "id": "p0FbA6TKwTHS"
    },
    {
      "cell_type": "code",
      "execution_count": null,
      "metadata": {
        "id": "WLUGBA_KwhXc"
      },
      "outputs": [],
      "source": [
        "lower_bound =Q1-1.5*IQR\n",
        "upper_bound =Q3+1.5*IQR\n",
        "\n",
        "lower_bound, upper_bound"
      ],
      "id": "WLUGBA_KwhXc"
    },
    {
      "cell_type": "code",
      "execution_count": null,
      "metadata": {
        "id": "l0AeXiz4xLlx"
      },
      "outputs": [],
      "source": [
        "[(bank['age']<lower_bound) | (bank['age']>upper_bound)]"
      ],
      "id": "l0AeXiz4xLlx"
    },
    {
      "cell_type": "code",
      "execution_count": null,
      "metadata": {
        "id": "wG7F3uGKwvCT"
      },
      "outputs": [],
      "source": [
        "bank[(bank['age']<lower_bound) | (bank['age']>upper_bound)]"
      ],
      "id": "wG7F3uGKwvCT"
    },
    {
      "cell_type": "code",
      "execution_count": null,
      "metadata": {
        "id": "so_vvny1xVIx"
      },
      "outputs": [],
      "source": [
        "outlier=bank[(bank['age']<lower_bound)&(bank['age']>upper_bound)]\n",
        "outlier"
      ],
      "id": "so_vvny1xVIx"
    },
    {
      "cell_type": "code",
      "execution_count": null,
      "metadata": {
        "id": "zMLfIT6U6PCT"
      },
      "outputs": [],
      "source": [
        "Q1=np.percentile(bank['job'],25,interpolation='midpoint')\n",
        "Q3=np.percentile(bank['job'],75,interpolation='midpoint')\n",
        "\n",
        "IQR=Q3-Q1\n",
        "\n",
        "lower_bound =Q1-1.5*IQR\n",
        "upper_bound =Q3+1.5*IQR\n",
        "\n",
        "\n",
        "bank[(bank['job']<lower_bound)&(bank['job']>upper_bound)]\n"
      ],
      "id": "zMLfIT6U6PCT"
    },
    {
      "cell_type": "code",
      "execution_count": null,
      "metadata": {
        "id": "PT6n9ieg6PVi"
      },
      "outputs": [],
      "source": [
        "Q1=np.percentile(bank['marital'],25,interpolation='midpoint')\n",
        "Q3=np.percentile(bank['marital'],75,interpolation='midpoint')\n",
        "\n",
        "IQR=Q3-Q1\n",
        "\n",
        "lower_bound =Q1-1.5*IQR\n",
        "upper_bound =Q3+1.5*IQR\n",
        "\n",
        "\n",
        "bank[(bank['marital']<lower_bound)&(bank['marital']>upper_bound)]\n"
      ],
      "id": "PT6n9ieg6PVi"
    },
    {
      "cell_type": "code",
      "execution_count": null,
      "metadata": {
        "id": "Ac40L0sI5lLG"
      },
      "outputs": [],
      "source": [
        "Q1=np.percentile(bank['education'],25,interpolation='midpoint')\n",
        "Q3=np.percentile(bank['education'],75,interpolation='midpoint')\n",
        "\n",
        "IQR=Q3-Q1\n",
        "\n",
        "lower_bound =Q1-1.5*IQR\n",
        "upper_bound =Q3+1.5*IQR\n",
        "\n",
        "\n",
        "bank[(bank['education']<lower_bound)&(bank['education']>upper_bound)]\n"
      ],
      "id": "Ac40L0sI5lLG"
    },
    {
      "cell_type": "code",
      "execution_count": null,
      "metadata": {
        "id": "xVExPuOv6GcC"
      },
      "outputs": [],
      "source": [
        "Q1=np.percentile(bank['default'],25,interpolation='midpoint')\n",
        "Q3=np.percentile(bank['default'],75,interpolation='midpoint')\n",
        "\n",
        "IQR=Q3-Q1\n",
        "\n",
        "lower_bound =Q1-1.5*IQR\n",
        "upper_bound =Q3+1.5*IQR\n",
        "\n",
        "\n",
        "bank[(bank['default']<lower_bound)&(bank['default']>upper_bound)]\n"
      ],
      "id": "xVExPuOv6GcC"
    },
    {
      "cell_type": "code",
      "execution_count": null,
      "metadata": {
        "id": "7u1tRCyy6GeM"
      },
      "outputs": [],
      "source": [
        "Q1=np.percentile(bank['housing'],25,interpolation='midpoint')\n",
        "Q3=np.percentile(bank['housing'],75,interpolation='midpoint')\n",
        "\n",
        "IQR=Q3-Q1\n",
        "\n",
        "lower_bound =Q1-1.5*IQR\n",
        "upper_bound =Q3+1.5*IQR\n",
        "\n",
        "\n",
        "bank[(bank['housing']<lower_bound)&(bank['housing']>upper_bound)]\n"
      ],
      "id": "7u1tRCyy6GeM"
    },
    {
      "cell_type": "code",
      "execution_count": null,
      "metadata": {
        "id": "DCSC_JwY6GhA"
      },
      "outputs": [],
      "source": [
        "Q1=np.percentile(bank['contact'],25,interpolation='midpoint')\n",
        "Q3=np.percentile(bank['contact'],75,interpolation='midpoint')\n",
        "\n",
        "IQR=Q3-Q1\n",
        "\n",
        "lower_bound =Q1-1.5*IQR\n",
        "upper_bound =Q3+1.5*IQR\n",
        "\n",
        "\n",
        "bank[(bank['contact']<lower_bound)&(bank['contact']>upper_bound)]\n"
      ],
      "id": "DCSC_JwY6GhA"
    },
    {
      "cell_type": "code",
      "execution_count": null,
      "metadata": {
        "id": "JWE9rHOW6GjS"
      },
      "outputs": [],
      "source": [
        "Q1=np.percentile(bank['month'],25,interpolation='midpoint')\n",
        "Q3=np.percentile(bank['month'],75,interpolation='midpoint')\n",
        "\n",
        "IQR=Q3-Q1\n",
        "\n",
        "lower_bound =Q1-1.5*IQR\n",
        "upper_bound =Q3+1.5*IQR\n",
        "\n",
        "\n",
        "bank[(bank['month']<lower_bound)&(bank['month']>upper_bound)]\n"
      ],
      "id": "JWE9rHOW6GjS"
    },
    {
      "cell_type": "code",
      "execution_count": null,
      "metadata": {
        "id": "YJhplwVH6GmN"
      },
      "outputs": [],
      "source": [
        "Q1=np.percentile(bank['day_of_week'],25,interpolation='midpoint')\n",
        "Q3=np.percentile(bank['day_of_week'],75,interpolation='midpoint')\n",
        "\n",
        "IQR=Q3-Q1\n",
        "\n",
        "lower_bound =Q1-1.5*IQR\n",
        "upper_bound =Q3+1.5*IQR\n",
        "\n",
        "\n",
        "bank[(bank['day_of_week']<lower_bound)&(bank['day_of_week']>upper_bound)]\n"
      ],
      "id": "YJhplwVH6GmN"
    },
    {
      "cell_type": "code",
      "execution_count": null,
      "metadata": {
        "id": "bGz33ibV6GoG"
      },
      "outputs": [],
      "source": [
        "Q1=np.percentile(bank['duration'],25,interpolation='midpoint')\n",
        "Q3=np.percentile(bank['duration'],75,interpolation='midpoint')\n",
        "\n",
        "IQR=Q3-Q1\n",
        "\n",
        "lower_bound =Q1-1.5*IQR\n",
        "upper_bound =Q3+1.5*IQR\n",
        "\n",
        "\n",
        "bank[(bank['duration']<lower_bound)&(bank['duration']>upper_bound)]"
      ],
      "id": "bGz33ibV6GoG"
    },
    {
      "cell_type": "code",
      "execution_count": null,
      "metadata": {
        "id": "YGxWfaYm6GwB"
      },
      "outputs": [],
      "source": [],
      "id": "YGxWfaYm6GwB"
    },
    {
      "cell_type": "code",
      "execution_count": null,
      "metadata": {
        "id": "hzOzeNUz6Gt-"
      },
      "outputs": [],
      "source": [
        "Q1=np.percentile(bank['campaign'],25,interpolation='midpoint')\n",
        "Q3=np.percentile(bank['campaign'],75,interpolation='midpoint')\n",
        "\n",
        "IQR=Q3-Q1\n",
        "\n",
        "lower_bound =Q1-1.5*IQR\n",
        "upper_bound =Q3+1.5*IQR\n",
        "\n",
        "\n",
        "bank[(bank['campaign']<lower_bound)&(bank['campaign']>upper_bound)]\n"
      ],
      "id": "hzOzeNUz6Gt-"
    },
    {
      "cell_type": "code",
      "execution_count": null,
      "metadata": {
        "id": "FnqQqJZq82ms"
      },
      "outputs": [],
      "source": [
        "Q1=np.percentile(bank['pdays'],25,interpolation='midpoint')\n",
        "Q3=np.percentile(bank['pdays'],75,interpolation='midpoint')\n",
        "\n",
        "IQR=Q3-Q1\n",
        "\n",
        "lower_bound =Q1-1.5*IQR\n",
        "upper_bound =Q3+1.5*IQR\n",
        "\n",
        "\n",
        "bank[(bank['pdays']<lower_bound)&(bank['pdays']>upper_bound)]"
      ],
      "id": "FnqQqJZq82ms"
    },
    {
      "cell_type": "code",
      "execution_count": null,
      "metadata": {
        "id": "kCE6eZdQ9A_x"
      },
      "outputs": [],
      "source": [
        "Q1=np.percentile(bank['previous'],25,interpolation='midpoint')\n",
        "Q3=np.percentile(bank['previous'],75,interpolation='midpoint')\n",
        "\n",
        "IQR=Q3-Q1\n",
        "\n",
        "lower_bound =Q1-1.5*IQR\n",
        "upper_bound =Q3+1.5*IQR\n",
        "\n",
        "\n",
        "bank[(bank['previous']<lower_bound)&(bank['previous']>upper_bound)]"
      ],
      "id": "kCE6eZdQ9A_x"
    },
    {
      "cell_type": "code",
      "execution_count": null,
      "metadata": {
        "id": "-7k2TswU9BLh"
      },
      "outputs": [],
      "source": [
        "Q1=np.percentile(bank['poutcome'],25,interpolation='midpoint')\n",
        "Q3=np.percentile(bank['poutcome'],75,interpolation='midpoint')\n",
        "\n",
        "IQR=Q3-Q1\n",
        "\n",
        "lower_bound =Q1-1.5*IQR\n",
        "upper_bound =Q3+1.5*IQR\n",
        "\n",
        "\n",
        "bank[(bank['poutcome']<lower_bound)&(bank['poutcome']>upper_bound)]"
      ],
      "id": "-7k2TswU9BLh"
    },
    {
      "cell_type": "code",
      "execution_count": null,
      "metadata": {
        "id": "zNsrObVk9BWV"
      },
      "outputs": [],
      "source": [
        "Q1=np.percentile(bank['emp_var_rate'],25,interpolation='midpoint')\n",
        "Q3=np.percentile(bank['emp_var_rate'],75,interpolation='midpoint')\n",
        "\n",
        "IQR=Q3-Q1\n",
        "\n",
        "lower_bound =Q1-1.5*IQR\n",
        "upper_bound =Q3+1.5*IQR\n",
        "\n",
        "\n",
        "bank[(bank['emp_var_rate']<lower_bound)&(bank['emp_var_rate']>upper_bound)]"
      ],
      "id": "zNsrObVk9BWV"
    },
    {
      "cell_type": "code",
      "execution_count": null,
      "metadata": {
        "id": "tbiHqP5c9BYV"
      },
      "outputs": [],
      "source": [
        "Q1=np.percentile(bank['cons_price_idx'],25,interpolation='midpoint')\n",
        "Q3=np.percentile(bank['cons_price_idx'],75,interpolation='midpoint')\n",
        "\n",
        "IQR=Q3-Q1\n",
        "\n",
        "lower_bound =Q1-1.5*IQR\n",
        "upper_bound =Q3+1.5*IQR\n",
        "\n",
        "\n",
        "bank[(bank['cons_price_idx']<lower_bound)&(bank['cons_price_idx']>upper_bound)]"
      ],
      "id": "tbiHqP5c9BYV"
    },
    {
      "cell_type": "code",
      "execution_count": null,
      "metadata": {
        "id": "Nkjw7eMG9Bb_"
      },
      "outputs": [],
      "source": [
        "Q1=np.percentile(bank['cons_conf_idx'],25,interpolation='midpoint')\n",
        "Q3=np.percentile(bank['cons_conf_idx'],75,interpolation='midpoint')\n",
        "\n",
        "IQR=Q3-Q1\n",
        "\n",
        "lower_bound =Q1-1.5*IQR\n",
        "upper_bound =Q3+1.5*IQR\n",
        "\n",
        "\n",
        "bank[(bank['cons_conf_idx']<lower_bound)&(bank['cons_conf_idx']>upper_bound)]"
      ],
      "id": "Nkjw7eMG9Bb_"
    },
    {
      "cell_type": "code",
      "execution_count": null,
      "metadata": {
        "id": "CPNGEWFa9BeI"
      },
      "outputs": [],
      "source": [
        "Q1=np.percentile(bank['euribor3m'],25,interpolation='midpoint')\n",
        "Q3=np.percentile(bank['euribor3m'],75,interpolation='midpoint')\n",
        "\n",
        "IQR=Q3-Q1\n",
        "\n",
        "lower_bound =Q1-1.5*IQR\n",
        "upper_bound =Q3+1.5*IQR\n",
        "\n",
        "\n",
        "bank[(bank['euribor3m']<lower_bound)&(bank['euribor3m']>upper_bound)]"
      ],
      "id": "CPNGEWFa9BeI"
    },
    {
      "cell_type": "code",
      "execution_count": null,
      "metadata": {
        "id": "r4TYTA7J9Bho"
      },
      "outputs": [],
      "source": [
        "Q1=np.percentile(bank['nr_employed'],25,interpolation='midpoint')\n",
        "Q3=np.percentile(bank['nr_employed'],75,interpolation='midpoint')\n",
        "\n",
        "IQR=Q3-Q1\n",
        "\n",
        "lower_bound =Q1-1.5*IQR\n",
        "upper_bound =Q3+1.5*IQR\n",
        "\n",
        "\n",
        "bank[(bank['nr_employed']<lower_bound)&(bank['nr_employed']>upper_bound)]"
      ],
      "id": "r4TYTA7J9Bho"
    },
    {
      "cell_type": "code",
      "execution_count": null,
      "metadata": {
        "id": "etSEjcC59X9F"
      },
      "outputs": [],
      "source": [
        "Q1=np.percentile(bank['y'],25,interpolation='midpoint')\n",
        "Q3=np.percentile(bank['y'],75,interpolation='midpoint')\n",
        "\n",
        "IQR=Q3-Q1\n",
        "\n",
        "lower_bound =Q1-1.5*IQR\n",
        "upper_bound =Q3+1.5*IQR\n",
        "\n",
        "\n",
        "bank[(bank['y']<lower_bound)&(bank['y']>upper_bound)]"
      ],
      "id": "etSEjcC59X9F"
    },
    {
      "cell_type": "markdown",
      "source": [
        "## or"
      ],
      "metadata": {
        "id": "K6vxwlGBV7Ii"
      },
      "id": "K6vxwlGBV7Ii"
    },
    {
      "cell_type": "code",
      "source": [
        "#checking the outliers\n",
        "def find_outliers_IQR(bank):\n",
        "\n",
        "   q1=bank.quantile(0.25)\n",
        "\n",
        "   q3=bank.quantile(0.75)\n",
        "\n",
        "   IQR=q3-q1\n",
        "\n",
        "   outliers = bank[((bank<(q1-1.5*IQR)) | (bank>(q3+1.5*IQR)))]\n",
        "\n",
        "   return outliers\n",
        "find_outliers_IQR(bank)"
      ],
      "metadata": {
        "id": "KfL6HUg9V-iC"
      },
      "id": "KfL6HUg9V-iC",
      "execution_count": null,
      "outputs": []
    },
    {
      "cell_type": "code",
      "source": [
        "Q1 = bank.quantile(0.25)\n",
        "Q3 = bank.quantile(0.75)\n",
        "IQR = Q3 - Q1\n",
        "((bank < (Q1 - 1.5 * IQR)) | (bank > (Q3 + 1.5 * IQR))).sum()"
      ],
      "metadata": {
        "id": "ezm63fXTWmDs"
      },
      "id": "ezm63fXTWmDs",
      "execution_count": null,
      "outputs": []
    },
    {
      "cell_type": "code",
      "source": [
        "#Accessing only categorical column\n",
        "num_cols=bank.select_dtypes(include='number')\n",
        "num_cols"
      ],
      "metadata": {
        "id": "3VC8D0CMWtce"
      },
      "id": "3VC8D0CMWtce",
      "execution_count": null,
      "outputs": []
    },
    {
      "cell_type": "code",
      "source": [
        "for col in num_cols:\n",
        "    print(col)\n",
        "    bp=plt.boxplot(bank[col].dropna(), showcaps=True)\n",
        "    print(bp.keys())\n",
        "    for key in bp:\n",
        "        print(f'{key}: {[item.get_ydata() for item in bp[key]]}\\n')\n",
        "    plt.show()\n",
        "    print('*'*30)"
      ],
      "metadata": {
        "id": "ftwToy5dWmSF"
      },
      "id": "ftwToy5dWmSF",
      "execution_count": null,
      "outputs": []
    },
    {
      "cell_type": "code",
      "execution_count": null,
      "metadata": {
        "id": "MobO_11t4CJO"
      },
      "outputs": [],
      "source": [
        "sns.barplot(bank['age'],bank['education'],bank['job'])"
      ],
      "id": "MobO_11t4CJO"
    },
    {
      "cell_type": "code",
      "execution_count": null,
      "metadata": {
        "id": "sod_2YD-tQYW"
      },
      "outputs": [],
      "source": [
        "plt.boxplot(bank.age)"
      ],
      "id": "sod_2YD-tQYW"
    },
    {
      "cell_type": "code",
      "execution_count": null,
      "metadata": {
        "id": "HvIoy-I5os74"
      },
      "outputs": [],
      "source": [
        "plt.boxplot(bank)"
      ],
      "id": "HvIoy-I5os74"
    },
    {
      "cell_type": "code",
      "execution_count": null,
      "metadata": {
        "id": "Bo8sJuAWWKz6"
      },
      "outputs": [],
      "source": [
        "plt.boxplot(bank,'default')"
      ],
      "id": "Bo8sJuAWWKz6"
    },
    {
      "cell_type": "code",
      "execution_count": null,
      "metadata": {
        "id": "6YOkxfx9uI3U"
      },
      "outputs": [],
      "source": [
        "plt.scatter(bank.age,bank.education)"
      ],
      "id": "6YOkxfx9uI3U"
    },
    {
      "cell_type": "code",
      "execution_count": null,
      "metadata": {
        "id": "on34KwCvV6Qz"
      },
      "outputs": [],
      "source": [
        "plt.boxplot(bank.age)"
      ],
      "id": "on34KwCvV6Qz"
    },
    {
      "cell_type": "code",
      "execution_count": null,
      "metadata": {
        "id": "iOF-LAu7ngxf"
      },
      "outputs": [],
      "source": [
        "plt.boxplot(bank,'education')"
      ],
      "id": "iOF-LAu7ngxf"
    },
    {
      "cell_type": "markdown",
      "metadata": {
        "id": "5jMxmYmfEgp3"
      },
      "source": [
        "# **Splitting X and Y train , X and Y test**"
      ],
      "id": "5jMxmYmfEgp3"
    },
    {
      "cell_type": "code",
      "execution_count": null,
      "metadata": {
        "id": "eAJn2SuwcE31"
      },
      "outputs": [],
      "source": [
        "from sklearn.model_selection import train_test_split"
      ],
      "id": "eAJn2SuwcE31"
    },
    {
      "cell_type": "code",
      "execution_count": null,
      "metadata": {
        "id": "p7MSUxvmUYlt"
      },
      "outputs": [],
      "source": [
        "X=bank.drop('y',axis=1)\n",
        "Y=bank.y"
      ],
      "id": "p7MSUxvmUYlt"
    },
    {
      "cell_type": "code",
      "execution_count": null,
      "metadata": {
        "id": "Jxsy9u1zFZRP"
      },
      "outputs": [],
      "source": [
        "X_train, X_test, Y_train, Y_test = train_test_split(X, Y, test_size=.20, random_state=300)\n",
        "X_train, X_test, Y_train, Y_test"
      ],
      "id": "Jxsy9u1zFZRP"
    },
    {
      "cell_type": "code",
      "execution_count": null,
      "metadata": {
        "id": "8Bfva-4fr2Us"
      },
      "outputs": [],
      "source": [
        "X_train.head()"
      ],
      "id": "8Bfva-4fr2Us"
    },
    {
      "cell_type": "code",
      "execution_count": null,
      "metadata": {
        "id": "13_Z9rSar2kE"
      },
      "outputs": [],
      "source": [
        "X_train.shape"
      ],
      "id": "13_Z9rSar2kE"
    },
    {
      "cell_type": "code",
      "execution_count": null,
      "metadata": {
        "id": "iIbxDdnHsHik"
      },
      "outputs": [],
      "source": [
        "X_test.head()"
      ],
      "id": "iIbxDdnHsHik"
    },
    {
      "cell_type": "code",
      "execution_count": null,
      "metadata": {
        "id": "6PDtjj01sHln"
      },
      "outputs": [],
      "source": [
        "X_test.sample"
      ],
      "id": "6PDtjj01sHln"
    },
    {
      "cell_type": "code",
      "execution_count": null,
      "metadata": {
        "id": "ZUzaepshu09Z"
      },
      "outputs": [],
      "source": [
        "from sklearn.preprocessing import StandardScaler"
      ],
      "id": "ZUzaepshu09Z"
    },
    {
      "cell_type": "code",
      "execution_count": null,
      "metadata": {
        "id": "NP964LNtu1L5"
      },
      "outputs": [],
      "source": [
        "sc = StandardScaler().fit(X_train)"
      ],
      "id": "NP964LNtu1L5"
    },
    {
      "cell_type": "code",
      "execution_count": null,
      "metadata": {
        "id": "zfWg091Qu1Ot"
      },
      "outputs": [],
      "source": [
        "X_train = sc.transform(X_train)"
      ],
      "id": "zfWg091Qu1Ot"
    },
    {
      "cell_type": "code",
      "execution_count": null,
      "metadata": {
        "id": "gZ4LI6hcvEOv"
      },
      "outputs": [],
      "source": [
        "X_train"
      ],
      "id": "gZ4LI6hcvEOv"
    },
    {
      "cell_type": "code",
      "execution_count": null,
      "metadata": {
        "id": "keUQ1oh50UYp"
      },
      "outputs": [],
      "source": [
        "X_test= sc.transform(X_test)"
      ],
      "id": "keUQ1oh50UYp"
    },
    {
      "cell_type": "code",
      "execution_count": null,
      "metadata": {
        "id": "qAnTqXe70Uc8"
      },
      "outputs": [],
      "source": [
        "X_test"
      ],
      "id": "qAnTqXe70Uc8"
    },
    {
      "cell_type": "markdown",
      "metadata": {
        "id": "uI-eCgI07URn"
      },
      "source": [
        "## **Rescaling data using standardization**"
      ],
      "id": "uI-eCgI07URn"
    },
    {
      "cell_type": "code",
      "execution_count": null,
      "metadata": {
        "id": "acTldqI47FJd"
      },
      "outputs": [],
      "source": [
        "from sklearn.preprocessing import StandardScaler"
      ],
      "id": "acTldqI47FJd"
    },
    {
      "cell_type": "code",
      "execution_count": null,
      "metadata": {
        "id": "BZsBzXKm7FLC"
      },
      "outputs": [],
      "source": [
        "sc = StandardScaler().fit(X_train)"
      ],
      "id": "BZsBzXKm7FLC"
    },
    {
      "cell_type": "code",
      "execution_count": null,
      "metadata": {
        "id": "vf4FLyom7FNm"
      },
      "outputs": [],
      "source": [
        "X_train= sc.transform(X_train)"
      ],
      "id": "vf4FLyom7FNm"
    },
    {
      "cell_type": "code",
      "execution_count": null,
      "metadata": {
        "id": "TjiBMeN07FPV"
      },
      "outputs": [],
      "source": [
        "X_train"
      ],
      "id": "TjiBMeN07FPV"
    },
    {
      "cell_type": "code",
      "execution_count": null,
      "metadata": {
        "id": "uHr9RoFH7FTG"
      },
      "outputs": [],
      "source": [
        "X_test= sc.transform(X_test)"
      ],
      "id": "uHr9RoFH7FTG"
    },
    {
      "cell_type": "code",
      "execution_count": null,
      "metadata": {
        "id": "yqSYehmm7oom"
      },
      "outputs": [],
      "source": [
        "X_test"
      ],
      "id": "yqSYehmm7oom"
    },
    {
      "cell_type": "markdown",
      "metadata": {
        "id": "0_xq-sRZMX3P"
      },
      "source": [
        "# **Modelling**"
      ],
      "id": "0_xq-sRZMX3P"
    },
    {
      "cell_type": "markdown",
      "metadata": {
        "id": "bQkEZ2P-Cw2w"
      },
      "source": [
        "##**Training Logistic Regression**"
      ],
      "id": "bQkEZ2P-Cw2w"
    },
    {
      "cell_type": "code",
      "execution_count": null,
      "metadata": {
        "id": "Dt_ocdtgCv7E"
      },
      "outputs": [],
      "source": [
        "from sklearn.linear_model import LogisticRegression \n",
        "lg=LogisticRegression()"
      ],
      "id": "Dt_ocdtgCv7E"
    },
    {
      "cell_type": "code",
      "execution_count": null,
      "metadata": {
        "id": "u-UD7MKVDnwJ"
      },
      "outputs": [],
      "source": [
        "lg.fit(X_train,Y_train)"
      ],
      "id": "u-UD7MKVDnwJ"
    },
    {
      "cell_type": "code",
      "execution_count": null,
      "metadata": {
        "id": "f8d4CF6RD_zZ"
      },
      "outputs": [],
      "source": [
        "lg.score(X_test,Y_test)"
      ],
      "id": "f8d4CF6RD_zZ"
    },
    {
      "cell_type": "code",
      "execution_count": null,
      "metadata": {
        "id": "D6adJPRCD_2U"
      },
      "outputs": [],
      "source": [
        "predict=lg.predict(X_test)\n",
        "predict"
      ],
      "id": "D6adJPRCD_2U"
    },
    {
      "cell_type": "markdown",
      "metadata": {
        "id": "aVi9ZI93Xdcd"
      },
      "source": [
        "## **Model Performance**"
      ],
      "id": "aVi9ZI93Xdcd"
    },
    {
      "cell_type": "code",
      "execution_count": null,
      "metadata": {
        "id": "BsGsPHBHX8-r"
      },
      "outputs": [],
      "source": [
        "##importing evaluation metrics\n",
        "from sklearn.metrics import confusion_matrix,accuracy_score,f1_score"
      ],
      "id": "BsGsPHBHX8-r"
    },
    {
      "cell_type": "code",
      "execution_count": null,
      "metadata": {
        "id": "mlN0zwteEGr-"
      },
      "outputs": [],
      "source": [
        "accuracy = confusion_matrix(Y_test, predict)\n",
        "accuracy"
      ],
      "id": "mlN0zwteEGr-"
    },
    {
      "cell_type": "code",
      "execution_count": null,
      "metadata": {
        "id": "iwrpqSd7EJ3Z"
      },
      "outputs": [],
      "source": [
        "# Checking the accuracy Score\n",
        "accuracy_score(Y_test, predict)*100"
      ],
      "id": "iwrpqSd7EJ3Z"
    },
    {
      "cell_type": "code",
      "execution_count": null,
      "metadata": {
        "id": "aQwT9twQYVKF"
      },
      "outputs": [],
      "source": [
        "# Checking the f1 Score\n",
        "f1_score(Y_test, predict)*100"
      ],
      "id": "aQwT9twQYVKF"
    },
    {
      "cell_type": "markdown",
      "metadata": {
        "id": "Vi26AAARKqnO"
      },
      "source": [
        "## **Training Randon Forest Classifier**"
      ],
      "id": "Vi26AAARKqnO"
    },
    {
      "cell_type": "code",
      "execution_count": null,
      "metadata": {
        "id": "HCh5RPITLD3o"
      },
      "outputs": [],
      "source": [
        "from sklearn.ensemble import RandomForestClassifier \n",
        "rfc=RandomForestClassifier()"
      ],
      "id": "HCh5RPITLD3o"
    },
    {
      "cell_type": "code",
      "execution_count": null,
      "metadata": {
        "id": "N72MheGcLZNq"
      },
      "outputs": [],
      "source": [
        "rfc.fit(X_train,Y_train)"
      ],
      "id": "N72MheGcLZNq"
    },
    {
      "cell_type": "code",
      "execution_count": null,
      "metadata": {
        "id": "hby3BjXJLZQx"
      },
      "outputs": [],
      "source": [
        "rfc.score(X_test,Y_test)"
      ],
      "id": "hby3BjXJLZQx"
    },
    {
      "cell_type": "code",
      "execution_count": null,
      "metadata": {
        "id": "PmvZiyWyLeuG"
      },
      "outputs": [],
      "source": [
        "prediction=rfc.predict(X_test)\n",
        "prediction"
      ],
      "id": "PmvZiyWyLeuG"
    },
    {
      "cell_type": "markdown",
      "metadata": {
        "id": "rOWYVP6eXlHc"
      },
      "source": [
        "## **Model Performance**"
      ],
      "id": "rOWYVP6eXlHc"
    },
    {
      "cell_type": "code",
      "execution_count": null,
      "metadata": {
        "id": "1UoWvUNEXzY7"
      },
      "outputs": [],
      "source": [
        "##importing evaluation metrics\n",
        "from sklearn.metrics import confusion_matrix,accuracy_score,f1_score"
      ],
      "id": "1UoWvUNEXzY7"
    },
    {
      "cell_type": "code",
      "execution_count": null,
      "metadata": {
        "id": "SjctS26gLiQ8"
      },
      "outputs": [],
      "source": [
        "accuracy=confusion_matrix(Y_test, prediction)\n",
        "accuracy"
      ],
      "id": "SjctS26gLiQ8"
    },
    {
      "cell_type": "code",
      "execution_count": null,
      "metadata": {
        "id": "mgV7bFLKZDZg"
      },
      "outputs": [],
      "source": [
        "# Checking the accuracy Score\n",
        "accuracy_score(Y_test, prediction)*100"
      ],
      "id": "mgV7bFLKZDZg"
    },
    {
      "cell_type": "code",
      "execution_count": null,
      "metadata": {
        "id": "-VhgOVaqLmEx"
      },
      "outputs": [],
      "source": [
        "# Checking the f1 Score\n",
        "f1_score(Y_test, prediction)*100"
      ],
      "id": "-VhgOVaqLmEx"
    },
    {
      "cell_type": "markdown",
      "metadata": {
        "id": "Jbktoh22k31m"
      },
      "source": [
        "##**Training Decision Tree Classifier**"
      ],
      "id": "Jbktoh22k31m"
    },
    {
      "cell_type": "code",
      "execution_count": null,
      "metadata": {
        "id": "9zM6iKtklEKd"
      },
      "outputs": [],
      "source": [
        "from sklearn.tree import DecisionTreeClassifier\n",
        "model=DecisionTreeClassifier()"
      ],
      "id": "9zM6iKtklEKd"
    },
    {
      "cell_type": "code",
      "execution_count": null,
      "metadata": {
        "id": "C74QcP--llBb"
      },
      "outputs": [],
      "source": [
        "model.fit(X_train,Y_train)"
      ],
      "id": "C74QcP--llBb"
    },
    {
      "cell_type": "code",
      "execution_count": null,
      "metadata": {
        "id": "z4Z49SdzllEU"
      },
      "outputs": [],
      "source": [
        "model.score(X_test,Y_test)"
      ],
      "id": "z4Z49SdzllEU"
    },
    {
      "cell_type": "code",
      "execution_count": null,
      "metadata": {
        "id": "tB0k0b-xI_Jo"
      },
      "outputs": [],
      "source": [
        "predictions=model.predict(X_test)\n",
        "predictions"
      ],
      "id": "tB0k0b-xI_Jo"
    },
    {
      "cell_type": "markdown",
      "metadata": {
        "id": "gkk-TgS2XoMn"
      },
      "source": [
        "## **Model Performance**"
      ],
      "id": "gkk-TgS2XoMn"
    },
    {
      "cell_type": "code",
      "execution_count": null,
      "metadata": {
        "id": "J6cgA6XEYEkx"
      },
      "outputs": [],
      "source": [
        "##importing evaluation metrics\n",
        "from sklearn.metrics import confusion_matrix,accuracy_score,f1_score"
      ],
      "id": "J6cgA6XEYEkx"
    },
    {
      "cell_type": "code",
      "execution_count": null,
      "metadata": {
        "id": "bIvxT0xLjvPi"
      },
      "outputs": [],
      "source": [
        "\n",
        "accuracy=confusion_matrix(Y_test, predictions)\n",
        "accuracy"
      ],
      "id": "bIvxT0xLjvPi"
    },
    {
      "cell_type": "code",
      "execution_count": null,
      "metadata": {
        "id": "2kIU8OxfZYDe"
      },
      "outputs": [],
      "source": [
        "# Checking the accuracy Score\n",
        "accuracy_score(Y_test, predictions)*100"
      ],
      "id": "2kIU8OxfZYDe"
    },
    {
      "cell_type": "code",
      "execution_count": null,
      "metadata": {
        "id": "XYXq9lC7Kdt1"
      },
      "outputs": [],
      "source": [
        "# Checking the f1 Score\n",
        "f1_score(Y_test, predictions)*100"
      ],
      "id": "XYXq9lC7Kdt1"
    },
    {
      "cell_type": "markdown",
      "metadata": {
        "id": "opatRIH4GG_V"
      },
      "source": [
        "##**Training K Nearest Neighbors Classifier**"
      ],
      "id": "opatRIH4GG_V"
    },
    {
      "cell_type": "code",
      "execution_count": null,
      "metadata": {
        "id": "TpFTJgkUGiLu"
      },
      "outputs": [],
      "source": [
        "from sklearn.neighbors import KNeighborsClassifier\n",
        "knn=KNeighborsClassifier(n_neighbors=10)\n"
      ],
      "id": "TpFTJgkUGiLu"
    },
    {
      "cell_type": "code",
      "execution_count": null,
      "metadata": {
        "id": "t5PoderZGVTA"
      },
      "outputs": [],
      "source": [
        "knn.fit(X_train,Y_train)"
      ],
      "id": "t5PoderZGVTA"
    },
    {
      "cell_type": "code",
      "execution_count": null,
      "metadata": {
        "id": "jjCWCpfPFzfl"
      },
      "outputs": [],
      "source": [
        "knn.score(X_test,Y_test)"
      ],
      "id": "jjCWCpfPFzfl"
    },
    {
      "cell_type": "code",
      "execution_count": null,
      "metadata": {
        "id": "gbJw24fjF9wG"
      },
      "outputs": [],
      "source": [
        "predict1=knn.predict(X_test)\n",
        "predict1"
      ],
      "id": "gbJw24fjF9wG"
    },
    {
      "cell_type": "markdown",
      "metadata": {
        "id": "lXmI8bgee3Fc"
      },
      "source": [
        "## **Model Performance**"
      ],
      "id": "lXmI8bgee3Fc"
    },
    {
      "cell_type": "code",
      "execution_count": null,
      "metadata": {
        "id": "AqovyUtcimyI"
      },
      "outputs": [],
      "source": [
        "##importing evaluation metrics\n",
        "from sklearn.metrics import confusion_matrix,accuracy_score,f1_score"
      ],
      "id": "AqovyUtcimyI"
    },
    {
      "cell_type": "code",
      "execution_count": null,
      "metadata": {
        "id": "eJMYHCE2GaFk"
      },
      "outputs": [],
      "source": [
        "#checking accuracy score\n",
        "accuracy=confusion_matrix(Y_test,predict1)\n",
        "accuracy"
      ],
      "id": "eJMYHCE2GaFk"
    },
    {
      "cell_type": "code",
      "execution_count": null,
      "metadata": {
        "id": "CrPTeReihxVL"
      },
      "outputs": [],
      "source": [
        "#checking accuracy score\n",
        "accuracy_score(Y_test, predict1)"
      ],
      "id": "CrPTeReihxVL"
    },
    {
      "cell_type": "code",
      "execution_count": null,
      "metadata": {
        "id": "QlUYe72XGcgB"
      },
      "outputs": [],
      "source": [
        "#checking f1 score\n",
        "f1_score(Y_test, predict1)"
      ],
      "id": "QlUYe72XGcgB"
    },
    {
      "cell_type": "markdown",
      "metadata": {
        "id": "ktUMa9nD0EtL"
      },
      "source": [
        "## **Training Naive Bayes Classifier**"
      ],
      "id": "ktUMa9nD0EtL"
    },
    {
      "cell_type": "code",
      "execution_count": null,
      "metadata": {
        "id": "yblWeZJyy8Ce"
      },
      "outputs": [],
      "source": [
        "from sklearn.naive_bayes import GaussianNB\n",
        "nb=GaussianNB()"
      ],
      "id": "yblWeZJyy8Ce"
    },
    {
      "cell_type": "code",
      "execution_count": null,
      "metadata": {
        "id": "zzqgh5jUzg7d"
      },
      "outputs": [],
      "source": [
        "nb.fit(X_train,Y_train)"
      ],
      "id": "zzqgh5jUzg7d"
    },
    {
      "cell_type": "code",
      "execution_count": null,
      "metadata": {
        "id": "rsGFs5mBzg_W"
      },
      "outputs": [],
      "source": [
        "nb.score(X_test,Y_test)"
      ],
      "id": "rsGFs5mBzg_W"
    },
    {
      "cell_type": "code",
      "execution_count": null,
      "metadata": {
        "id": "oDKVKAIgzhQ3"
      },
      "outputs": [],
      "source": [
        "pred_val=nb.predict(X_test)\n",
        "pred_val"
      ],
      "id": "oDKVKAIgzhQ3"
    },
    {
      "cell_type": "markdown",
      "metadata": {
        "id": "W0JZ0JCaz_yz"
      },
      "source": [
        "## **Model Performance**"
      ],
      "id": "W0JZ0JCaz_yz"
    },
    {
      "cell_type": "code",
      "execution_count": null,
      "metadata": {
        "id": "yiKr9hIj0b3m"
      },
      "outputs": [],
      "source": [
        "##importing evaluation metrics\n",
        "from sklearn.metrics import confusion_matrix,accuracy_score,f1_score"
      ],
      "id": "yiKr9hIj0b3m"
    },
    {
      "cell_type": "code",
      "execution_count": null,
      "metadata": {
        "id": "0AJ4vFuBz-_e"
      },
      "outputs": [],
      "source": [
        "#checking accuracy score\n",
        "accuracy_score(Y_test, pred_val)"
      ],
      "id": "0AJ4vFuBz-_e"
    },
    {
      "cell_type": "code",
      "execution_count": null,
      "metadata": {
        "id": "pBKAf2j60VQJ"
      },
      "outputs": [],
      "source": [
        "#checking f1score\n",
        "f1_score(Y_test, pred_val)"
      ],
      "id": "pBKAf2j60VQJ"
    },
    {
      "cell_type": "markdown",
      "metadata": {
        "id": "H2YWB3QPsb4k"
      },
      "source": [
        "## **Training SVM Classifier**\n",
        "\n"
      ],
      "id": "H2YWB3QPsb4k"
    },
    {
      "cell_type": "code",
      "execution_count": null,
      "metadata": {
        "id": "eLKLB68Hhpae"
      },
      "outputs": [],
      "source": [
        "from sklearn.svm import SVC\n"
      ],
      "id": "eLKLB68Hhpae"
    },
    {
      "cell_type": "code",
      "execution_count": null,
      "metadata": {
        "id": "AAkd04MYhpae"
      },
      "outputs": [],
      "source": [
        "# Applying the SVM Classifier to training data\n",
        "\n",
        "clf_svm = SVC(C = 100, kernel = 'rbf')\n",
        "clf_svm.fit(X_train, Y_train)"
      ],
      "id": "AAkd04MYhpae"
    },
    {
      "cell_type": "code",
      "execution_count": null,
      "metadata": {
        "id": "UKIAlX2khpae"
      },
      "outputs": [],
      "source": [
        "# Predicting the Values from trainimg and testing\n",
        "y_test_pred = clf_svm.predict(X_test)\n",
        "y_test_pred"
      ],
      "id": "UKIAlX2khpae"
    },
    {
      "cell_type": "markdown",
      "metadata": {
        "id": "6z1D4vKFWk25"
      },
      "source": [
        "##**Model Performance**"
      ],
      "id": "6z1D4vKFWk25"
    },
    {
      "cell_type": "code",
      "execution_count": null,
      "metadata": {
        "id": "ChvUGqpNhpae"
      },
      "outputs": [],
      "source": [
        "# Importing accuracy-score and confusion_matrix pacakge\n",
        "\n",
        "from sklearn.metrics import accuracy_score, confusion_matrix,f1_score"
      ],
      "id": "ChvUGqpNhpae"
    },
    {
      "cell_type": "code",
      "execution_count": null,
      "metadata": {
        "id": "c-alBzknhpaf"
      },
      "outputs": [],
      "source": [
        "# Checking the confision matrix\n",
        "\n",
        "accuracy=confusion_matrix(Y_test, y_test_pred)\n",
        "accuracy"
      ],
      "id": "c-alBzknhpaf"
    },
    {
      "cell_type": "code",
      "execution_count": null,
      "metadata": {
        "id": "Xi6QSKZwXLGx"
      },
      "outputs": [],
      "source": [
        "# Checking the accuracy score\n",
        "accuracy_score(Y_test, y_test_pred)"
      ],
      "id": "Xi6QSKZwXLGx"
    },
    {
      "cell_type": "code",
      "execution_count": null,
      "metadata": {
        "id": "nKTtpbHNhpaf"
      },
      "outputs": [],
      "source": [
        "# Checking the f1 score\n",
        "f1_score(Y_test,y_test_pred )"
      ],
      "id": "nKTtpbHNhpaf"
    },
    {
      "cell_type": "markdown",
      "metadata": {
        "id": "Hm9tbvWYyW0G"
      },
      "source": [
        "## **Training GridSearchCV**"
      ],
      "id": "Hm9tbvWYyW0G"
    },
    {
      "cell_type": "code",
      "execution_count": null,
      "metadata": {
        "id": "pxxJjCi0v-Vi"
      },
      "outputs": [],
      "source": [
        "from sklearn.model_selection import GridSearchCV\n",
        "from sklearn import svm\n",
        "params = {'C':(1,10,20)} \n",
        "clf_svm_l = svm.SVC(kernel='rbf')"
      ],
      "id": "pxxJjCi0v-Vi"
    },
    {
      "cell_type": "code",
      "execution_count": null,
      "metadata": {
        "id": "rILr08uqw0Uu"
      },
      "outputs": [],
      "source": [
        "grid= GridSearchCV(clf_svm_l, params,cv=3, scoring='accuracy') "
      ],
      "id": "rILr08uqw0Uu"
    },
    {
      "cell_type": "code",
      "execution_count": null,
      "metadata": {
        "id": "l4mQk4JIxFYf"
      },
      "outputs": [],
      "source": [
        "grid.fit(X_train, Y_train)"
      ],
      "id": "l4mQk4JIxFYf"
    },
    {
      "cell_type": "code",
      "execution_count": null,
      "metadata": {
        "id": "y04MabeOxGDC"
      },
      "outputs": [],
      "source": [
        "grid.score(X_test,Y_test)"
      ],
      "id": "y04MabeOxGDC"
    },
    {
      "cell_type": "code",
      "execution_count": null,
      "metadata": {
        "id": "NIKI17DmxTvo"
      },
      "outputs": [],
      "source": [
        "pred=grid.predict(X_test)\n",
        "pred"
      ],
      "id": "NIKI17DmxTvo"
    },
    {
      "cell_type": "markdown",
      "metadata": {
        "id": "u1SD3tKFxl6A"
      },
      "source": [
        "## **Model Performance**"
      ],
      "id": "u1SD3tKFxl6A"
    },
    {
      "cell_type": "code",
      "execution_count": null,
      "metadata": {
        "id": "dta8N9BpyBnG"
      },
      "outputs": [],
      "source": [
        "##importing evaluation metrics\n",
        "from sklearn.metrics import confusion_matrix,accuracy_score,f1_score"
      ],
      "id": "dta8N9BpyBnG"
    },
    {
      "cell_type": "code",
      "execution_count": null,
      "metadata": {
        "id": "51hZTbl9xw_k"
      },
      "outputs": [],
      "source": [
        "#checking accuracy score\n",
        "accuracy_score(Y_test, pred)"
      ],
      "id": "51hZTbl9xw_k"
    },
    {
      "cell_type": "code",
      "execution_count": null,
      "metadata": {
        "id": "nybUIKehxxZe"
      },
      "outputs": [],
      "source": [
        "#checking f1 score\n",
        "f1_score(Y_test, pred)"
      ],
      "id": "nybUIKehxxZe"
    },
    {
      "cell_type": "markdown",
      "metadata": {
        "id": "Fy6sR4kaXt8M"
      },
      "source": [
        "## New Section"
      ],
      "id": "Fy6sR4kaXt8M"
    },
    {
      "cell_type": "code",
      "execution_count": null,
      "metadata": {
        "id": "zEk3Iwp1hpaf"
      },
      "outputs": [],
      "source": [
        "for i in predictions:\n",
        "  print(i)"
      ],
      "id": "zEk3Iwp1hpaf"
    },
    {
      "cell_type": "code",
      "execution_count": null,
      "metadata": {
        "id": "mlKmnf8-hpaf"
      },
      "outputs": [],
      "source": [
        "CSV = pd.DataFrame({'Y': predictions})"
      ],
      "id": "mlKmnf8-hpaf"
    },
    {
      "cell_type": "code",
      "execution_count": null,
      "metadata": {
        "id": "WQ3-_K-hhpaf"
      },
      "outputs": [],
      "source": [
        "bank.isnull().sum()"
      ],
      "id": "WQ3-_K-hhpaf"
    },
    {
      "cell_type": "code",
      "execution_count": null,
      "metadata": {
        "id": "5FzUEwm-hpag"
      },
      "outputs": [],
      "source": [
        "CSV.to_csv('predictions.csv', index=False)"
      ],
      "id": "5FzUEwm-hpag"
    },
    {
      "cell_type": "code",
      "execution_count": null,
      "metadata": {
        "id": "ZC_4Ist3hpag"
      },
      "outputs": [],
      "source": [
        "plt.hist(predictions)"
      ],
      "id": "ZC_4Ist3hpag"
    },
    {
      "cell_type": "code",
      "execution_count": null,
      "metadata": {
        "id": "xvjcsNTvhpag"
      },
      "outputs": [],
      "source": [
        "from pandas.core.arrays.sparse.array import annotations\n",
        "cm=confusion_matrix(Y_test, prediction,labels=[0,1])\n",
        "sns.heatmap(cm,cmap='Reds',annot=True,cbar_kws={'orientation':'horizontal','label':'color bar'})\n",
        "plt.show()"
      ],
      "id": "xvjcsNTvhpag"
    }
  ],
  "metadata": {
    "colab": {
      "provenance": [],
      "collapsed_sections": [
        "gneoqBrkZZ_V",
        "F3uddHgTiEjW",
        "bYD6WheIJf5M",
        "THyyBxtvHwZq",
        "5jMxmYmfEgp3",
        "bQkEZ2P-Cw2w",
        "aVi9ZI93Xdcd"
      ]
    },
    "kernelspec": {
      "display_name": "Python 3 (ipykernel)",
      "language": "python",
      "name": "python3"
    },
    "language_info": {
      "codemirror_mode": {
        "name": "ipython",
        "version": 3
      },
      "file_extension": ".py",
      "mimetype": "text/x-python",
      "name": "python",
      "nbconvert_exporter": "python",
      "pygments_lexer": "ipython3",
      "version": "3.9.7"
    },
    "accelerator": "GPU",
    "gpuClass": "standard"
  },
  "nbformat": 4,
  "nbformat_minor": 5
}